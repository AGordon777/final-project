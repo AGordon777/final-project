{
 "cells": [
  {
   "cell_type": "markdown",
   "id": "4045e599",
   "metadata": {},
   "source": [
    "# Nutrition Index Dataset"
   ]
  },
  {
   "cell_type": "code",
   "execution_count": 1,
   "id": "b2fff42b",
   "metadata": {},
   "outputs": [
    {
     "data": {
      "text/html": [
       "<div>\n",
       "<style scoped>\n",
       "    .dataframe tbody tr th:only-of-type {\n",
       "        vertical-align: middle;\n",
       "    }\n",
       "\n",
       "    .dataframe tbody tr th {\n",
       "        vertical-align: top;\n",
       "    }\n",
       "\n",
       "    .dataframe thead th {\n",
       "        text-align: right;\n",
       "    }\n",
       "</style>\n",
       "<table border=\"1\" class=\"dataframe\">\n",
       "  <thead>\n",
       "    <tr style=\"text-align: right;\">\n",
       "      <th></th>\n",
       "      <th>spatialdimtype</th>\n",
       "      <th>spatialdim</th>\n",
       "      <th>parentlocation</th>\n",
       "      <th>dim1type</th>\n",
       "      <th>dim1</th>\n",
       "      <th>numericvalue</th>\n",
       "      <th>timedimensionvalue</th>\n",
       "    </tr>\n",
       "  </thead>\n",
       "  <tbody>\n",
       "    <tr>\n",
       "      <th>0</th>\n",
       "      <td>COUNTRY</td>\n",
       "      <td>ALB</td>\n",
       "      <td>Europe</td>\n",
       "      <td>AGEGROUP</td>\n",
       "      <td>YEARS00-01</td>\n",
       "      <td>8.03751</td>\n",
       "      <td>2005</td>\n",
       "    </tr>\n",
       "    <tr>\n",
       "      <th>1</th>\n",
       "      <td>COUNTRY</td>\n",
       "      <td>ALB</td>\n",
       "      <td>Europe</td>\n",
       "      <td>AGEGROUP</td>\n",
       "      <td>YEARS02-05</td>\n",
       "      <td>5.91986</td>\n",
       "      <td>2005</td>\n",
       "    </tr>\n",
       "    <tr>\n",
       "      <th>2</th>\n",
       "      <td>COUNTRY</td>\n",
       "      <td>ALB</td>\n",
       "      <td>Europe</td>\n",
       "      <td>AGEGROUP</td>\n",
       "      <td>YEARS00-01</td>\n",
       "      <td>7.44554</td>\n",
       "      <td>2008</td>\n",
       "    </tr>\n",
       "    <tr>\n",
       "      <th>3</th>\n",
       "      <td>COUNTRY</td>\n",
       "      <td>ALB</td>\n",
       "      <td>Europe</td>\n",
       "      <td>AGEGROUP</td>\n",
       "      <td>YEARS02-05</td>\n",
       "      <td>5.68923</td>\n",
       "      <td>2008</td>\n",
       "    </tr>\n",
       "    <tr>\n",
       "      <th>4</th>\n",
       "      <td>COUNTRY</td>\n",
       "      <td>ALB</td>\n",
       "      <td>Europe</td>\n",
       "      <td>AGEGROUP</td>\n",
       "      <td>YEARS00-01</td>\n",
       "      <td>2.26349</td>\n",
       "      <td>2017</td>\n",
       "    </tr>\n",
       "  </tbody>\n",
       "</table>\n",
       "</div>"
      ],
      "text/plain": [
       "  spatialdimtype spatialdim parentlocation  dim1type        dim1  \\\n",
       "0        COUNTRY        ALB         Europe  AGEGROUP  YEARS00-01   \n",
       "1        COUNTRY        ALB         Europe  AGEGROUP  YEARS02-05   \n",
       "2        COUNTRY        ALB         Europe  AGEGROUP  YEARS00-01   \n",
       "3        COUNTRY        ALB         Europe  AGEGROUP  YEARS02-05   \n",
       "4        COUNTRY        ALB         Europe  AGEGROUP  YEARS00-01   \n",
       "\n",
       "   numericvalue  timedimensionvalue  \n",
       "0       8.03751                2005  \n",
       "1       5.91986                2005  \n",
       "2       7.44554                2008  \n",
       "3       5.68923                2008  \n",
       "4       2.26349                2017  "
      ]
     },
     "execution_count": 1,
     "metadata": {},
     "output_type": "execute_result"
    }
   ],
   "source": [
    "import pandas as pd\n",
    "import numpy as np\n",
    "\n",
    "nutrition = pd.read_csv('processed data/nutrition.csv').drop(['Unnamed: 0'], axis=1)\n",
    "nutrition.head()"
   ]
  },
  {
   "cell_type": "code",
   "execution_count": 2,
   "id": "893e8370",
   "metadata": {},
   "outputs": [
    {
     "data": {
      "text/plain": [
       "WEALTHQUINTILE       1489\n",
       "EDUCATIONLEVEL        827\n",
       "AGEGROUP              630\n",
       "SEX                   630\n",
       "RESIDENCEAREATYPE     626\n",
       "Name: dim1type, dtype: int64"
      ]
     },
     "execution_count": 2,
     "metadata": {},
     "output_type": "execute_result"
    }
   ],
   "source": [
    "nutrition.dim1type.value_counts(dropna=False)"
   ]
  },
  {
   "cell_type": "code",
   "execution_count": 3,
   "id": "38c25e5e",
   "metadata": {},
   "outputs": [
    {
     "data": {
      "text/plain": [
       "YEARS00-01    315\n",
       "YEARS02-05    315\n",
       "FMLE          315\n",
       "MLE           315\n",
       "RUR           313\n",
       "URB           313\n",
       "SHLM          299\n",
       "WQ1           298\n",
       "WQ2           298\n",
       "WQ4           298\n",
       "WQ5           298\n",
       "WQ3           297\n",
       "PRLM          274\n",
       "NHLM          254\n",
       "Name: dim1, dtype: int64"
      ]
     },
     "execution_count": 3,
     "metadata": {},
     "output_type": "execute_result"
    }
   ],
   "source": [
    "nutrition.dim1.value_counts(dropna=False)"
   ]
  },
  {
   "cell_type": "markdown",
   "id": "81c03cb4",
   "metadata": {},
   "source": [
    "However, we can see that there is not an even distribution of data across countries and that many countries are excluded entirely."
   ]
  },
  {
   "cell_type": "code",
   "execution_count": 4,
   "id": "02f0c388",
   "metadata": {},
   "outputs": [
    {
     "data": {
      "text/plain": [
       "PER    15\n",
       "SEN     9\n",
       "BGD     9\n",
       "GHA     7\n",
       "ZWE     7\n",
       "       ..\n",
       "SDN     1\n",
       "SOM     1\n",
       "SYR     1\n",
       "YEM     1\n",
       "VUT     1\n",
       "Name: spatialdim, Length: 103, dtype: int64"
      ]
     },
     "execution_count": 4,
     "metadata": {},
     "output_type": "execute_result"
    }
   ],
   "source": [
    "pivot = nutrition.pivot_table(index = ['parentlocation','spatialdim','timedimensionvalue'], columns=['dim1'], aggfunc = {'numericvalue':'sum'})\n",
    "table = pd.DataFrame(pivot)\n",
    "\n",
    "col_list = []\n",
    "for col in table.columns:\n",
    "    col_list.append(col[1])\n",
    "col_list\n",
    "\n",
    "table.columns = col_list\n",
    "\n",
    "table = table.reset_index()\n",
    "\n",
    "table.spatialdim.value_counts()"
   ]
  },
  {
   "cell_type": "code",
   "execution_count": null,
   "id": "64c66cf2",
   "metadata": {},
   "outputs": [],
   "source": []
  }
 ],
 "metadata": {
  "kernelspec": {
   "display_name": "Python 3 (ipykernel)",
   "language": "python",
   "name": "python3"
  },
  "language_info": {
   "codemirror_mode": {
    "name": "ipython",
    "version": 3
   },
   "file_extension": ".py",
   "mimetype": "text/x-python",
   "name": "python",
   "nbconvert_exporter": "python",
   "pygments_lexer": "ipython3",
   "version": "3.10.9"
  }
 },
 "nbformat": 4,
 "nbformat_minor": 5
}
